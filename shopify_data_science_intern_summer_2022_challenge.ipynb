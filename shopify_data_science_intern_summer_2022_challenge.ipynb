{
 "cells": [
  {
   "cell_type": "markdown",
   "id": "e01a66b0",
   "metadata": {},
   "source": [
    "# Question 1\n",
    "## The analysis for the first question is presented below. "
   ]
  },
  {
   "cell_type": "code",
   "execution_count": 1,
   "id": "150a2cc9",
   "metadata": {},
   "outputs": [],
   "source": [
    "import pandas as pd\n",
    "import numpy as np\n",
    "import matplotlib.pyplot as plt"
   ]
  },
  {
   "cell_type": "code",
   "execution_count": 2,
   "id": "149cdbba",
   "metadata": {},
   "outputs": [
    {
     "data": {
      "text/html": [
       "<div>\n",
       "<style scoped>\n",
       "    .dataframe tbody tr th:only-of-type {\n",
       "        vertical-align: middle;\n",
       "    }\n",
       "\n",
       "    .dataframe tbody tr th {\n",
       "        vertical-align: top;\n",
       "    }\n",
       "\n",
       "    .dataframe thead th {\n",
       "        text-align: right;\n",
       "    }\n",
       "</style>\n",
       "<table border=\"1\" class=\"dataframe\">\n",
       "  <thead>\n",
       "    <tr style=\"text-align: right;\">\n",
       "      <th></th>\n",
       "      <th>order_id</th>\n",
       "      <th>shop_id</th>\n",
       "      <th>user_id</th>\n",
       "      <th>order_amount</th>\n",
       "      <th>total_items</th>\n",
       "      <th>payment_method</th>\n",
       "      <th>created_at</th>\n",
       "    </tr>\n",
       "  </thead>\n",
       "  <tbody>\n",
       "    <tr>\n",
       "      <th>0</th>\n",
       "      <td>1</td>\n",
       "      <td>53</td>\n",
       "      <td>746</td>\n",
       "      <td>224</td>\n",
       "      <td>2</td>\n",
       "      <td>cash</td>\n",
       "      <td>2017-03-13 12:36:56</td>\n",
       "    </tr>\n",
       "    <tr>\n",
       "      <th>1</th>\n",
       "      <td>2</td>\n",
       "      <td>92</td>\n",
       "      <td>925</td>\n",
       "      <td>90</td>\n",
       "      <td>1</td>\n",
       "      <td>cash</td>\n",
       "      <td>2017-03-03 17:38:52</td>\n",
       "    </tr>\n",
       "    <tr>\n",
       "      <th>2</th>\n",
       "      <td>3</td>\n",
       "      <td>44</td>\n",
       "      <td>861</td>\n",
       "      <td>144</td>\n",
       "      <td>1</td>\n",
       "      <td>cash</td>\n",
       "      <td>2017-03-14 4:23:56</td>\n",
       "    </tr>\n",
       "    <tr>\n",
       "      <th>3</th>\n",
       "      <td>4</td>\n",
       "      <td>18</td>\n",
       "      <td>935</td>\n",
       "      <td>156</td>\n",
       "      <td>1</td>\n",
       "      <td>credit_card</td>\n",
       "      <td>2017-03-26 12:43:37</td>\n",
       "    </tr>\n",
       "    <tr>\n",
       "      <th>4</th>\n",
       "      <td>5</td>\n",
       "      <td>18</td>\n",
       "      <td>883</td>\n",
       "      <td>156</td>\n",
       "      <td>1</td>\n",
       "      <td>credit_card</td>\n",
       "      <td>2017-03-01 4:35:11</td>\n",
       "    </tr>\n",
       "  </tbody>\n",
       "</table>\n",
       "</div>"
      ],
      "text/plain": [
       "   order_id  shop_id  user_id  order_amount  total_items payment_method  \\\n",
       "0         1       53      746           224            2           cash   \n",
       "1         2       92      925            90            1           cash   \n",
       "2         3       44      861           144            1           cash   \n",
       "3         4       18      935           156            1    credit_card   \n",
       "4         5       18      883           156            1    credit_card   \n",
       "\n",
       "            created_at  \n",
       "0  2017-03-13 12:36:56  \n",
       "1  2017-03-03 17:38:52  \n",
       "2   2017-03-14 4:23:56  \n",
       "3  2017-03-26 12:43:37  \n",
       "4   2017-03-01 4:35:11  "
      ]
     },
     "execution_count": 2,
     "metadata": {},
     "output_type": "execute_result"
    }
   ],
   "source": [
    "average_value = pd.read_csv(\"average_value.csv\")\n",
    "average_value.head()"
   ]
  },
  {
   "cell_type": "code",
   "execution_count": 3,
   "id": "55bb7be1",
   "metadata": {},
   "outputs": [
    {
     "name": "stdout",
     "output_type": "stream",
     "text": [
      "The mean order amount is:  3145.128\n"
     ]
    }
   ],
   "source": [
    "print(\"The mean order amount is: \", average_value[\"order_amount\"].mean())"
   ]
  },
  {
   "cell_type": "markdown",
   "id": "6c6efdc1",
   "metadata": {},
   "source": [
    "### Calculation of skewness value for a measure of outliers\n",
    "Generally, in the field of Data science/ Machine learning and statistical analysis techniques, we assume that the data is normally distributed (ie, is *gaussian* in nature) This is easy to check with the **skewness value**, which explains the extent to which the data is normally distributed. Ideally, the skewness value should be between -1 and +1, and any major deviation from this range indicates the presence of extreme values."
   ]
  },
  {
   "cell_type": "code",
   "execution_count": 4,
   "id": "7aa6aa20",
   "metadata": {},
   "outputs": [
    {
     "name": "stdout",
     "output_type": "stream",
     "text": [
      "Skew value:  16.675033432503792\n"
     ]
    },
    {
     "data": {
      "text/plain": [
       "count      5000.000000\n",
       "mean       3145.128000\n",
       "std       41282.539349\n",
       "min          90.000000\n",
       "25%         163.000000\n",
       "50%         284.000000\n",
       "75%         390.000000\n",
       "max      704000.000000\n",
       "Name: order_amount, dtype: float64"
      ]
     },
     "execution_count": 4,
     "metadata": {},
     "output_type": "execute_result"
    }
   ],
   "source": [
    "print(\"Skew value: \",average_value[\"order_amount\"].skew())\n",
    "average_value[\"order_amount\"].describe()"
   ]
  },
  {
   "cell_type": "markdown",
   "id": "9eea0ff1",
   "metadata": {},
   "source": [
    "### Discussion of the above results\n",
    "\n",
    "We see that the skewness value is 16.6, which indicates that the column *order_amount* has a right skewed distribution, meaning it contains values which are extremely high. Furthermore, the max value of 704000 proves this point. "
   ]
  },
  {
   "cell_type": "markdown",
   "id": "c5d8cdf7",
   "metadata": {},
   "source": [
    "### Boxplot\n",
    "We next represent the data visually, to further prove our point of presence of outliers in the data. "
   ]
  },
  {
   "cell_type": "code",
   "execution_count": 5,
   "id": "56ad6e55",
   "metadata": {},
   "outputs": [
    {
     "data": {
      "image/png": "[encoded data removed]",
      "text/plain": [
       "<Figure size 432x288 with 1 Axes>"
      ]
     },
     "metadata": {
      "needs_background": "light"
     },
     "output_type": "display_data"
    }
   ],
   "source": [
    "plt.boxplot(average_value[\"order_amount\"])\n",
    "plt.grid()\n",
    "plt.show()"
   ]
  },
  {
   "cell_type": "markdown",
   "id": "be1ed49d",
   "metadata": {},
   "source": [
    "### Discussion\n",
    "The entire box portion of the box plot is a line along 0, and hence we can further visually say that there are a lot of outliers."
   ]
  },
  {
   "cell_type": "markdown",
   "id": "8896954c",
   "metadata": {},
   "source": [
    "### Histogram \n",
    "Another manner to show the presence of outliers visually is by plotting a histogram, this gives us the distribution of order amounts across the data set. "
   ]
  },
  {
   "cell_type": "code",
   "execution_count": 6,
   "id": "b48e9138",
   "metadata": {},
   "outputs": [
    {
     "data": {
      "text/plain": [
       "Text(0.5, 0, 'Order Amounts')"
      ]
     },
     "execution_count": 6,
     "metadata": {},
     "output_type": "execute_result"
    },
    {
     "data": {
      "image/png": "[encoded data removed]",
      "text/plain": [
       "<Figure size 720x360 with 1 Axes>"
      ]
     },
     "metadata": {
      "needs_background": "light"
     },
     "output_type": "display_data"
    }
   ],
   "source": [
    "average_value.sort_values(by = 'order_amount', inplace = True)\n",
    "average_value[\"order_amount\"].plot(kind = 'hist', bins = 150,figsize = (10,5), title = 'Distribution of order amounts').set_xlabel(\"Order Amounts\")"
   ]
  },
  {
   "cell_type": "markdown",
   "id": "093e20be",
   "metadata": {},
   "source": [
    "### Analysis of data without outliers: "
   ]
  },
  {
   "cell_type": "code",
   "execution_count": 7,
   "id": "78c41252",
   "metadata": {},
   "outputs": [
    {
     "data": {
      "text/plain": [
       "<AxesSubplot:>"
      ]
     },
     "execution_count": 7,
     "metadata": {},
     "output_type": "execute_result"
    },
    {
     "data": {
      "image/png": "[encoded data removed]",
      "text/plain": [
       "<Figure size 432x288 with 1 Axes>"
      ]
     },
     "metadata": {
      "needs_background": "light"
     },
     "output_type": "display_data"
    }
   ],
   "source": [
    "q1 = average_value.order_amount.quantile(q=0.25)\n",
    "q2 = average_value.order_amount.quantile(q=0.5)\n",
    "q3 = average_value.order_amount.quantile(q=0.75)\n",
    "IQR = q3 - q1\n",
    "\n",
    "average_value_truncated = average_value[(average_value.order_amount < q2 + IQR * 1.5) & (average_value.order_amount > q2 - IQR * 1.5)]\n",
    "average_value_truncated.boxplot(column='order_amount')"
   ]
  },
  {
   "cell_type": "code",
   "execution_count": 8,
   "id": "e6198617",
   "metadata": {},
   "outputs": [
    {
     "name": "stdout",
     "output_type": "stream",
     "text": [
      "Skew value:  0.5476746052976319\n",
      "count    4738.000000\n",
      "mean      283.814268\n",
      "std       132.061996\n",
      "min        90.000000\n",
      "25%       161.000000\n",
      "50%       272.000000\n",
      "75%       362.000000\n",
      "max       624.000000\n",
      "Name: order_amount, dtype: float64\n"
     ]
    }
   ],
   "source": [
    "print(\"Skew value: \", average_value_truncated.order_amount.skew())\n",
    "print(average_value_truncated.order_amount.describe())"
   ]
  },
  {
   "cell_type": "markdown",
   "id": "902af08b",
   "metadata": {},
   "source": [
    "We see from the above two cells that after cleaning some of the data and plotting the data which is only in the range median +/- 1.5 times the interquartile range _**IQR**_ that the distribution of the truncated dataset is now skewed towards lower values, the skewness factor of 0.54 further drives home the point that the truncated dataset does not contain outliers.  "
   ]
  },
  {
   "cell_type": "markdown",
   "id": "8be3897f",
   "metadata": {},
   "source": [
    "# A) Think about what could be going wrong with our calculation. Think about a better way to evaluate this data. \n",
    "\n",
    "## Calculation error - Where we have gone wrong : \n",
    "###### From the above histogram showing distribution of order amounts and the histogram, we see that most of the order amounts are of very less values ( < 1000), and there are many many outliers in the dataset, which is contributing to the high *Average Order Value* (AOV).  \n",
    "\n",
    "When we have such outliers present in the data, mean is usually not a good way to find summary of the data. \n",
    "We can use various other statistical measures to get the summary of our data, which are mentioned as follows : \n",
    "\n",
    "Median : This refers to the most central values of in a series of values. \n",
    "\n",
    "Trimmed mean : This is done by elminating the outliers in the dataset, and then finding the mean. "
   ]
  },
  {
   "cell_type": "markdown",
   "id": "2eb8292a",
   "metadata": {},
   "source": [
    "# B) What metric would you report for this dataset?\n",
    "## By looking at the boxplot of the truncated data set :\n",
    "We can say that since the data is skewed towards lower values now, median will be the most suitable method "
   ]
  },
  {
   "cell_type": "markdown",
   "id": "32493de4",
   "metadata": {},
   "source": [
    "# C) What is its value?\n",
    "## From the description of the truncated dataset, we see that the median is **272**"
   ]
  },
  {
   "cell_type": "markdown",
   "id": "91261484",
   "metadata": {},
   "source": [
    "# Question 2\n",
    "\n",
    "## A ) How many orders were shipped by Speedy Express in total?\n",
    "\n",
    "CREATE VIEW Shipper_Orders AS\n",
    "\n",
    "SELECT Orders.OrderID, Orders.ShipperID, Shippers.ShipperName\n",
    "\n",
    "FROM Orders \n",
    "\n",
    "JOIN Shippers\n",
    "\n",
    "ON Shippers.ShipperID=Orders.ShipperID;\n",
    "\n",
    "\n",
    "SELECT COUNT(*) FROM [Shipper_Orders]\n",
    "\n",
    "WHERE ShipperName = 'Speedy Express';\n",
    "\n",
    "**ANSWER: 54**\n",
    "\n",
    "## B) What is the last name of the employee with the most orders? \n",
    "\n",
    "CREATE VIEW Employee_Orders AS \n",
    "\n",
    "SELECT Orders.EmployeeID, Employees.LastName, Orders.OrderID\n",
    "\n",
    "FROM Orders\n",
    "\n",
    "JOIN Employees\n",
    "\n",
    "ON Employees.EmployeeID=Orders.EmployeeID; \n",
    "\n",
    "SELECT LastName, COUNT(*)\n",
    "\n",
    "FROM Employee_Orders\n",
    "\n",
    "GROUP BY LastName\n",
    "\n",
    "ORDER BY COUNT(*) desc;\n",
    "\n",
    "**ANSWER: Peacock, 40** \n",
    "\n",
    "## C) What product was ordered the most by customers in Germany?\n",
    "\n",
    "CREATE VIEW Products_Ordered AS\n",
    "\n",
    "SELECT Orders.OrderID, Customers.Country, OrderDetails.Quantity, Products.ProductName\n",
    "\n",
    "FROM Orders, OrderDetails\n",
    "\n",
    "JOIN Customers ON Orders.CustomerID=Customers.CustomerID\n",
    "\n",
    "JOIN Products ON OrderDetails.ProductID=Products.ProductID\n",
    "\n",
    "WHERE Country='Germany';\n",
    "\n",
    "CREATE VIEW Product_Orders AS\n",
    "\n",
    "SELECT ProductName, Quantity, COUNT(*) as 'Orders'\n",
    "\n",
    "FROM Products_Ordered\n",
    "\n",
    "GROUP BY ProductName;\n",
    "\n",
    "SELECT ProductName, Quantity, Orders, (Quantity * Orders) AS TotalOrdered\n",
    "\n",
    "FROM Product_Orders\n",
    "\n",
    "ORDER BY TotalOrdered desc\n",
    "\n",
    "LIMIT 1;\n",
    "\n",
    "**Answer:**\n",
    "\n",
    "**ProductName - Camembert Pierrot**\n",
    "\n",
    "**Quantity - 40**\n",
    "\n",
    "**Orders - 300**\n",
    "\n",
    "**TotalOrdered - 12000**"
   ]
  },
  {
   "cell_type": "code",
   "execution_count": null,
   "id": "2721d393",
   "metadata": {},
   "outputs": [],
   "source": []
  }
 ],
 "metadata": {
  "kernelspec": {
   "display_name": "Python 3 (ipykernel)",
   "language": "python",
   "name": "python3"
  },
  "language_info": {
   "codemirror_mode": {
    "name": "ipython",
    "version": 3
   },
   "file_extension": ".py",
   "mimetype": "text/x-python",
   "name": "python",
   "nbconvert_exporter": "python",
   "pygments_lexer": "ipython3",
   "version": "3.7.9"
  }
 },
 "nbformat": 4,
 "nbformat_minor": 5
}
